{
 "cells": [
  {
   "cell_type": "markdown",
   "metadata": {},
   "source": [
    "題目：國際失學兒\n",
    "作者：Pecu\n",
    "資料來源：https://data.worldbank.org/indicator/SE.PRM.UNER.FE?view=chart&year_high_desc=true"
   ]
  },
  {
   "cell_type": "code",
   "execution_count": 3,
   "metadata": {
    "scrolled": false
   },
   "outputs": [
    {
     "data": {
      "text/html": [
       "<div>\n",
       "<style scoped>\n",
       "    .dataframe tbody tr th:only-of-type {\n",
       "        vertical-align: middle;\n",
       "    }\n",
       "\n",
       "    .dataframe tbody tr th {\n",
       "        vertical-align: top;\n",
       "    }\n",
       "\n",
       "    .dataframe thead th {\n",
       "        text-align: right;\n",
       "    }\n",
       "</style>\n",
       "<table border=\"1\" class=\"dataframe\">\n",
       "  <thead>\n",
       "    <tr style=\"text-align: right;\">\n",
       "      <th></th>\n",
       "      <th>country</th>\n",
       "      <th>child</th>\n",
       "      <th>GDP</th>\n",
       "      <th>Population</th>\n",
       "      <th>rate</th>\n",
       "    </tr>\n",
       "  </thead>\n",
       "  <tbody>\n",
       "    <tr>\n",
       "      <td>0</td>\n",
       "      <td>Ghana</td>\n",
       "      <td>289456</td>\n",
       "      <td>473.30</td>\n",
       "      <td>28830000</td>\n",
       "      <td>0.010040</td>\n",
       "    </tr>\n",
       "    <tr>\n",
       "      <td>1</td>\n",
       "      <td>Nepal</td>\n",
       "      <td>99251</td>\n",
       "      <td>244.70</td>\n",
       "      <td>29300000</td>\n",
       "      <td>0.003387</td>\n",
       "    </tr>\n",
       "    <tr>\n",
       "      <td>2</td>\n",
       "      <td>Gambia</td>\n",
       "      <td>29313</td>\n",
       "      <td>10.15</td>\n",
       "      <td>2101000</td>\n",
       "      <td>0.013952</td>\n",
       "    </tr>\n",
       "    <tr>\n",
       "      <td>3</td>\n",
       "      <td>Uzbekistan</td>\n",
       "      <td>25735</td>\n",
       "      <td>487.20</td>\n",
       "      <td>32390000</td>\n",
       "      <td>0.000795</td>\n",
       "    </tr>\n",
       "    <tr>\n",
       "      <td>4</td>\n",
       "      <td>Djibouti</td>\n",
       "      <td>21163</td>\n",
       "      <td>18.45</td>\n",
       "      <td>957000</td>\n",
       "      <td>0.022114</td>\n",
       "    </tr>\n",
       "  </tbody>\n",
       "</table>\n",
       "</div>"
      ],
      "text/plain": [
       "      country   child     GDP  Population      rate\n",
       "0       Ghana  289456  473.30    28830000  0.010040\n",
       "1       Nepal   99251  244.70    29300000  0.003387\n",
       "2      Gambia   29313   10.15     2101000  0.013952\n",
       "3  Uzbekistan   25735  487.20    32390000  0.000795\n",
       "4    Djibouti   21163   18.45      957000  0.022114"
      ]
     },
     "execution_count": 3,
     "metadata": {},
     "output_type": "execute_result"
    }
   ],
   "source": [
    "%matplotlib inline\n",
    "import matplotlib.pyplot as plt\n",
    "import pandas as pd\n",
    "import numpy as np\n",
    "\n",
    "# This is a custom matplotlib style that I use for most of my charts\n",
    "# plt.style.use('tableau10.mplstyle')\n",
    "\n",
    "child_data = pd.read_csv('child.csv')\n",
    "child_data.head()"
   ]
  },
  {
   "cell_type": "markdown",
   "metadata": {},
   "source": [
    "Ghana\n",
    "Nepal\n",
    "Gambia\n",
    "Uzbekistan\n",
    "Djibouti\n",
    "Ecuador\n",
    "Tajikistan\n",
    "Sao Tome and Principe\n",
    "\n",
    "兒童於 2017 年的失學人數"
   ]
  },
  {
   "cell_type": "code",
   "execution_count": 2,
   "metadata": {},
   "outputs": [
    {
     "data": {
      "image/png": "[encoded data removed]",
      "text/plain": [
       "<Figure size 1080x504 with 1 Axes>"
      ]
     },
     "metadata": {
      "needs_background": "light"
     },
     "output_type": "display_data"
    }
   ],
   "source": [
    "fig = plt.figure(figsize=(15, 7))\n",
    "ax1 = fig.add_subplot(111)\n",
    "\n",
    "for (i, row) in child_data.iterrows():\n",
    "    plt.bar([i], [row['child']],\n",
    "            color=['#CC6699'], width=0.8, align='center', edgecolor='none')\n",
    "    \n",
    "#plt.xlim(-0.6, 20.6)\n",
    "#plt.ylim(-12.1e6, 12.1e6)\n",
    "#plt.grid(False, axis='x')\n",
    "plt.xticks(np.arange(0, 10), child_data['country'], fontsize=11)\n",
    "#plt.yticks(np.arange(-12e6, 13e6, 2e6),\n",
    "#           ['{}m'.format(int(abs(x) / 1e6)) if x != 0 else 0 for x in np.arange(-12e6, 13e6, 2e6)])\n",
    "plt.xlabel('child out school')\n",
    "plt.ylabel('Number of people (millions)')\n",
    "\n",
    "plt.savefig('pop_pyramid_rotated.pdf')"
   ]
  },
  {
   "cell_type": "code",
   "execution_count": 77,
   "metadata": {},
   "outputs": [
    {
     "data": {
      "text/plain": [
       "0                   Ghana\n",
       "1                   Nepal\n",
       "2                  Gambia\n",
       "3              Uzbekistan\n",
       "4                Djibouti\n",
       "5                 Ecuador\n",
       "6              Tajikistan\n",
       "7    SaoTome and Principe\n",
       "8              Kazakhstan\n",
       "Name: country, dtype: object"
      ]
     },
     "execution_count": 77,
     "metadata": {},
     "output_type": "execute_result"
    }
   ],
   "source": [
    "# Data to plot\n",
    "labels = child_data['country']\n",
    "labels"
   ]
  },
  {
   "cell_type": "code",
   "execution_count": 78,
   "metadata": {},
   "outputs": [
    {
     "data": {
      "text/plain": [
       "0    289456\n",
       "1     99251\n",
       "2     29313\n",
       "3     25735\n",
       "4     21163\n",
       "5      9229\n",
       "6      8176\n",
       "7       548\n",
       "8       379\n",
       "Name: child, dtype: int64"
      ]
     },
     "execution_count": 78,
     "metadata": {},
     "output_type": "execute_result"
    }
   ],
   "source": [
    "sizes = child_data['child']\n",
    "sizes"
   ]
  },
  {
   "cell_type": "markdown",
   "metadata": {},
   "source": [
    "2017 年的全球失學兒共 482871 人\n",
    "最嚴重的地區是迦納 Ghana (位於西非的國家)"
   ]
  },
  {
   "cell_type": "code",
   "execution_count": 79,
   "metadata": {},
   "outputs": [
    {
     "data": {
      "text/plain": [
       "483250"
      ]
     },
     "execution_count": 79,
     "metadata": {},
     "output_type": "execute_result"
    }
   ],
   "source": [
    "all = pd.Series(sizes).sum()\n",
    "all"
   ]
  },
  {
   "cell_type": "code",
   "execution_count": 80,
   "metadata": {},
   "outputs": [
    {
     "data": {
      "image/png": "[encoded data removed]",
      "text/plain": [
       "<Figure size 432x288 with 1 Axes>"
      ]
     },
     "metadata": {},
     "output_type": "display_data"
    }
   ],
   "source": [
    "colors = ['gold', 'yellowgreen', 'lightcoral', 'lightskyblue', 'pink', 'yellow', 'red', 'blue']\n",
    "explode = (0.1, 0, 0, 0, 0, 0, 0, 0)  # explode 1st slice\n",
    " \n",
    "# Plot\n",
    "patches, texts, autotexts = plt.pie(sizes, colors = colors, autopct='%1.1f%%', startangle=90)\n",
    "\n",
    "plt.legend(patches, labels, loc=\"best\")\n",
    "plt.axis('equal')\n",
    "plt.tight_layout()\n",
    "plt.show()"
   ]
  },
  {
   "cell_type": "markdown",
   "metadata": {},
   "source": [
    "談討國家 GDP 與失學兒的關係，要考慮總人口數，變成探討失學率\n",
    "最嚴重的國家是吉布地 Djibouti (位於東非的國家)\n",
    "\n",
    "而聖多美普林西比 SaoTome and Principe (位於中部非洲的國家)\n",
    "在有限的資源下，即便 GDP 很低 (3.91億美元)，但兒童失學率卻只有 0.002682。\n",
    "是控制失學狀態最佳的國家。"
   ]
  },
  {
   "cell_type": "code",
   "execution_count": 81,
   "metadata": {},
   "outputs": [
    {
     "data": {
      "text/plain": [
       "0    0.010040\n",
       "1    0.003387\n",
       "2    0.013952\n",
       "3    0.000795\n",
       "4    0.022114\n",
       "5    0.000555\n",
       "6    0.000916\n",
       "7    0.002682\n",
       "8    0.000021\n",
       "Name: rate, dtype: float64"
      ]
     },
     "execution_count": 81,
     "metadata": {},
     "output_type": "execute_result"
    }
   ],
   "source": [
    "y = child_data['rate']\n",
    "y"
   ]
  },
  {
   "cell_type": "code",
   "execution_count": 82,
   "metadata": {},
   "outputs": [
    {
     "data": {
      "text/plain": [
       "0     473.30\n",
       "1     244.70\n",
       "2      10.15\n",
       "3     487.20\n",
       "4      18.45\n",
       "5    1031.00\n",
       "6      71.46\n",
       "7       3.91\n",
       "8    1594.00\n",
       "Name: GDP, dtype: float64"
      ]
     },
     "execution_count": 82,
     "metadata": {},
     "output_type": "execute_result"
    }
   ],
   "source": [
    "x = child_data['GDP']\n",
    "x"
   ]
  },
  {
   "cell_type": "code",
   "execution_count": 83,
   "metadata": {},
   "outputs": [
    {
     "data": {
      "text/plain": [
       "[<matplotlib.lines.Line2D at 0x9270518>]"
      ]
     },
     "execution_count": 83,
     "metadata": {},
     "output_type": "execute_result"
    },
    {
     "data": {
      "image/png": "[encoded data removed]",
      "text/plain": [
       "<Figure size 432x288 with 1 Axes>"
      ]
     },
     "metadata": {
      "needs_background": "light"
     },
     "output_type": "display_data"
    }
   ],
   "source": [
    "plt.plot(x,y, 'ro')"
   ]
  },
  {
   "cell_type": "code",
   "execution_count": null,
   "metadata": {},
   "outputs": [],
   "source": []
  }
 ],
 "metadata": {
  "kernelspec": {
   "display_name": "Python 3",
   "language": "python",
   "name": "python3"
  },
  "language_info": {
   "codemirror_mode": {
    "name": "ipython",
    "version": 3
   },
   "file_extension": ".py",
   "mimetype": "text/x-python",
   "name": "python",
   "nbconvert_exporter": "python",
   "pygments_lexer": "ipython3",
   "version": "3.7.4"
  }
 },
 "nbformat": 4,
 "nbformat_minor": 1
}
